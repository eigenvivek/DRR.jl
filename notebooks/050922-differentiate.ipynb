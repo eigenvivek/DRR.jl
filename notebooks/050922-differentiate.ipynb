{
 "cells": [
  {
   "cell_type": "code",
   "execution_count": 1,
   "id": "9beb733b-c963-4f9c-b0df-b20107a64dfd",
   "metadata": {},
   "outputs": [
    {
     "name": "stderr",
     "output_type": "stream",
     "text": [
      "┌ Info: Precompiling DRR [b7cdf4c7-cd72-4265-95a4-eec1a441a985]\n",
      "└ @ Base loading.jl:1423\n"
     ]
    }
   ],
   "source": [
    "using BenchmarkTools\n",
    "using Plots\n",
    "using DRR\n",
    "using Zygote"
   ]
  },
  {
   "cell_type": "code",
   "execution_count": 2,
   "id": "d0e61d94-fc54-4613-a222-e96c21d3735d",
   "metadata": {},
   "outputs": [
    {
     "data": {
      "text/plain": [
       "Detector(Vec3{Float64}(180.0, 180.0, 500.0), Vec3{Float64}(1.0, -1.0, -1.0), 601, 601, 2.0, 2.0)"
      ]
     },
     "execution_count": 2,
     "metadata": {},
     "output_type": "execute_result"
    }
   ],
   "source": [
    "# Read the volume\n",
    "volume, ΔX, ΔY, ΔZ = read_dicom(\"../data/cxr\"; pad=true)\n",
    "# volume = volume[:, :, 2:end-1]\n",
    "grid, pixels = volume2grid(volume, ΔX, ΔY, ΔZ)\n",
    "\n",
    "# Define the camera\n",
    "center = Vec3(180., 180., -100)\n",
    "camera = Camera(center)\n",
    "\n",
    "# Define the detector plane\n",
    "center = Vec3(180., 180., 500.)\n",
    "normal = Vec3(1., -1., -1.)\n",
    "height, width = 601, 601\n",
    "Δx, Δy = 2., 2.\n",
    "detector = Detector(center, normal, height, width, Δx, Δy)"
   ]
  },
  {
   "cell_type": "code",
   "execution_count": 3,
   "id": "204b397e-a070-4a9b-8ffb-9cdefd692b68",
   "metadata": {},
   "outputs": [
    {
     "data": {
      "text/plain": [
       "0.02"
      ]
     },
     "execution_count": 3,
     "metadata": {},
     "output_type": "execute_result"
    }
   ],
   "source": [
    "spacing = 0.02"
   ]
  },
  {
   "cell_type": "code",
   "execution_count": null,
   "id": "961aa74f-b7d6-4a0b-a2a8-b4bb28095097",
   "metadata": {},
   "outputs": [],
   "source": [
    "gradient(spc -> make_drr(grid, pixels, camera, detector, spc), spacing)"
   ]
  },
  {
   "cell_type": "code",
   "execution_count": 4,
   "id": "5bec0dbb-b3d0-4749-9e37-2d9caa9e2f08",
   "metadata": {},
   "outputs": [
    {
     "ename": "LoadError",
     "evalue": "type Array has no field cutPoints",
     "output_type": "error",
     "traceback": [
      "type Array has no field cutPoints",
      "",
      "Stacktrace:",
      "  [1] getproperty",
      "    @ .\\Base.jl:42 [inlined]",
      "  [2] interpolate(x::Float64, y::Float64, z::Float64, grid::Vector{Float64}, volume::Array{Int16, 3})",
      "    @ DRR C:\\Users\\rubyl\\OneDrive\\Documents\\School\\Parallel Computing\\FinalProject\\DRR.jl\\src\\trilinear.jl:53",
      "  [3] interpolate(pt::Vec3{Float64}; grid::Vector{Float64}, volume::Array{Int16, 3})",
      "    @ DRR C:\\Users\\rubyl\\OneDrive\\Documents\\School\\Parallel Computing\\FinalProject\\DRR.jl\\src\\trilinear.jl:79",
      "  [4] (::Base.Broadcast.var\"#41#42\"{Base.Pairs{Symbol, Array, Tuple{Symbol, Symbol}, NamedTuple{(:grid, :volume), Tuple{Vector{Float64}, Array{Int16, 3}}}}, typeof(interpolate)})(args::Vec3{Float64})",
      "    @ Base.Broadcast .\\broadcast.jl:1283",
      "  [5] _broadcast_getindex_evalf",
      "    @ .\\broadcast.jl:670 [inlined]",
      "  [6] _broadcast_getindex",
      "    @ .\\broadcast.jl:643 [inlined]",
      "  [7] getindex",
      "    @ .\\broadcast.jl:597 [inlined]",
      "  [8] copy",
      "    @ .\\broadcast.jl:899 [inlined]",
      "  [9] materialize",
      "    @ .\\broadcast.jl:860 [inlined]",
      " [10] raytrace_trilinear(ray::DRR.Ray_{Float64}, spacing::Float64, grid::Vector{Float64}, volume::Array{Int16, 3})",
      "    @ DRR C:\\Users\\rubyl\\OneDrive\\Documents\\School\\Parallel Computing\\FinalProject\\DRR.jl\\src\\trilinear.jl:84",
      " [11] (::DRR.var\"#14#15\"{Vector{Float64}, Array{Int16, 3}, Float64})(ray::DRR.Ray_{Float64})",
      "    @ DRR .\\none:0",
      " [12] iterate",
      "    @ .\\generator.jl:47 [inlined]",
      " [13] collect(itr::Base.Generator{Matrix{DRR.Ray_{Float64}}, DRR.var\"#14#15\"{Vector{Float64}, Array{Int16, 3}, Float64}})",
      "    @ Base .\\array.jl:724",
      " [14] make_drr(grid::Vector{Float64}, volume::Array{Int16, 3}, camera::Camera, detector::Detector, spacing::Float64)",
      "    @ DRR C:\\Users\\rubyl\\OneDrive\\Documents\\School\\Parallel Computing\\FinalProject\\DRR.jl\\src\\trilinear.jl:96",
      " [15] top-level scope",
      "    @ In[4]:1",
      " [16] eval",
      "    @ .\\boot.jl:373 [inlined]",
      " [17] include_string(mapexpr::typeof(REPL.softscope), mod::Module, code::String, filename::String)",
      "    @ Base .\\loading.jl:1196"
     ]
    }
   ],
   "source": [
    "drr = make_drr(grid, volume, camera, detector, spacing)\n",
    "heatmap(drr, c=:grays)"
   ]
  },
  {
   "cell_type": "code",
   "execution_count": 5,
   "id": "19c9a273-ebe1-4c36-befb-742a7b0caf62",
   "metadata": {},
   "outputs": [
    {
     "data": {
      "text/plain": [
       "raytrace_trilinear (generic function with 1 method)"
      ]
     },
     "execution_count": 5,
     "metadata": {},
     "output_type": "execute_result"
    }
   ],
   "source": [
    "function raytrace_trilinear(ray, spacing::Float64, grid, pixels)\n",
    "    pts = trace.(0:spacing:1; ray=ray)\n",
    "    interpolations = interpolate.(pts; grid, pixels)\n",
    "    return sum(interpolations) / length(pts)\n",
    "end\n",
    "    "
   ]
  },
  {
   "cell_type": "code",
   "execution_count": 7,
   "id": "ec62a9ba-3734-452a-9386-7e606ffb33ee",
   "metadata": {},
   "outputs": [],
   "source": [
    "findz(x, y; a, b, c, d) = (d - a * x - b * y) / c\n",
    "findz(x::Tuple{Float64,Float64}; a, b, c, d) = findz(x[1], x[2]; a, b, c, d)\n",
    "append(xy, z) = Vec3(xy..., z)\n",
    "\n",
    "# Construct the detector array\n",
    "function make_plane(detector::Detector)\n",
    "    d = dotprod(detector.center, detector.normal)\n",
    "    xs = (-detector.height÷2:1:detector.height÷2) * detector.Δx\n",
    "    ys = (-detector.width÷2:1:detector.width÷2) * detector.Δy\n",
    "    xys = product(xs, ys) |> collect\n",
    "    zs = findz.(xys; a=detector.normal.x, b=detector.normal.y, c=detector.normal.z, d=d)\n",
    "    return append.(xys, zs)\n",
    "end\n",
    "get_rays(camera, plane) = [Ray(camera.center, pixel - camera.center) for pixel in plane]\n",
    "\n",
    "import Base: product\n",
    "# Set up the detector plane\n",
    "plane = make_plane(detector)\n",
    "projector = get_rays(camera, plane);"
   ]
  },
  {
   "cell_type": "code",
   "execution_count": 9,
   "id": "c7178595-0fee-46d9-939b-e8e595ab084a",
   "metadata": {},
   "outputs": [
    {
     "data": {
      "text/plain": [
       "DRR.Ray_{Float64}(Vec3{Float64}(180.0, 180.0, -100.0), Vec3{Float64}(-780.0, -780.0, 600.0), 1255.7069721873809)"
      ]
     },
     "execution_count": 9,
     "metadata": {},
     "output_type": "execute_result"
    }
   ],
   "source": [
    "projector[1]"
   ]
  },
  {
   "cell_type": "code",
   "execution_count": 15,
   "id": "6144d829-04ab-43fa-895a-741a49f473da",
   "metadata": {},
   "outputs": [
    {
     "ename": "LoadError",
     "evalue": "Mutating arrays is not supported -- called setindex!(::Vector{Int64}, _...)",
     "output_type": "error",
     "traceback": [
      "Mutating arrays is not supported -- called setindex!(::Vector{Int64}, _...)",
      "",
      "Stacktrace:",
      "  [1] error(s::String)",
      "    @ Base .\\error.jl:33",
      "  [2] (::Zygote.var\"#441#442\"{Vector{Int64}})(#unused#::Nothing)",
      "    @ Zygote C:\\Users\\rubyl\\.julia\\packages\\Zygote\\Y6SC4\\src\\lib\\array.jl:71",
      "  [3] (::Zygote.var\"#2335#back#443\"{Zygote.var\"#441#442\"{Vector{Int64}}})(Δ::Nothing)",
      "    @ Zygote C:\\Users\\rubyl\\.julia\\packages\\ZygoteRules\\AIbCs\\src\\adjoint.jl:67",
      "  [4] Pullback",
      "    @ C:\\Users\\rubyl\\.julia\\packages\\GridInterpolations\\Q9kj8\\src\\GridInterpolations.jl:208 [inlined]",
      "  [5] (::typeof(∂(interpolants)))(Δ::Tuple{Nothing, Vector{Float64}})",
      "    @ Zygote C:\\Users\\rubyl\\.julia\\packages\\Zygote\\Y6SC4\\src\\compiler\\interface2.jl:0",
      "  [6] Pullback",
      "    @ C:\\Users\\rubyl\\.julia\\packages\\GridInterpolations\\Q9kj8\\src\\GridInterpolations.jl:161 [inlined]",
      "  [7] Pullback",
      "    @ C:\\Users\\rubyl\\OneDrive\\Documents\\School\\Parallel Computing\\FinalProject\\DRR.jl\\src\\grid.jl:22 [inlined]",
      "  [8] (::typeof(∂(#interpolate#11)))(Δ::Float64)",
      "    @ Zygote C:\\Users\\rubyl\\.julia\\packages\\Zygote\\Y6SC4\\src\\compiler\\interface2.jl:0",
      "  [9] Pullback",
      "    @ C:\\Users\\rubyl\\OneDrive\\Documents\\School\\Parallel Computing\\FinalProject\\DRR.jl\\src\\grid.jl:22 [inlined]",
      " [10] (::typeof(∂(interpolate##kw)))(Δ::Float64)",
      "    @ Zygote C:\\Users\\rubyl\\.julia\\packages\\Zygote\\Y6SC4\\src\\compiler\\interface2.jl:0",
      " [11] #212",
      "    @ C:\\Users\\rubyl\\.julia\\packages\\Zygote\\Y6SC4\\src\\lib\\lib.jl:203 [inlined]",
      " [12] (::Zygote.var\"#1748#back#214\"{Zygote.var\"#212#213\"{Tuple{Tuple{Nothing, Nothing}, Tuple{Nothing}}, typeof(∂(interpolate##kw))}})(Δ::Float64)",
      "    @ Zygote C:\\Users\\rubyl\\.julia\\packages\\ZygoteRules\\AIbCs\\src\\adjoint.jl:67",
      " [13] Pullback",
      "    @ .\\broadcast.jl:1283 [inlined]",
      " [14] (::typeof(∂(λ)))(Δ::Float64)",
      "    @ Zygote C:\\Users\\rubyl\\.julia\\packages\\Zygote\\Y6SC4\\src\\compiler\\interface2.jl:0",
      " [15] #1089",
      "    @ C:\\Users\\rubyl\\.julia\\packages\\Zygote\\Y6SC4\\src\\lib\\broadcast.jl:194 [inlined]",
      " [16] #4",
      "    @ .\\generator.jl:36 [inlined]",
      " [17] iterate",
      "    @ .\\generator.jl:47 [inlined]",
      " [18] collect(itr::Base.Generator{Base.Iterators.Zip{Tuple{Vector{Tuple{Float64, typeof(∂(λ))}}, FillArrays.Fill{Float64, 1, Tuple{Base.OneTo{Int64}}}}}, Base.var\"#4#5\"{Zygote.var\"#1089#1094\"}})",
      "    @ Base .\\array.jl:724",
      " [19] map",
      "    @ .\\abstractarray.jl:2948 [inlined]",
      " [20] (::Zygote.var\"#∇broadcasted#1093\"{Tuple{Vector{Vec3{Float64}}}, Vector{Tuple{Float64, typeof(∂(λ))}}, Val{2}})(ȳ::FillArrays.Fill{Float64, 1, Tuple{Base.OneTo{Int64}}})",
      "    @ Zygote C:\\Users\\rubyl\\.julia\\packages\\Zygote\\Y6SC4\\src\\lib\\broadcast.jl:194",
      " [21] #3995#back",
      "    @ C:\\Users\\rubyl\\.julia\\packages\\ZygoteRules\\AIbCs\\src\\adjoint.jl:67 [inlined]",
      " [22] #212",
      "    @ C:\\Users\\rubyl\\.julia\\packages\\Zygote\\Y6SC4\\src\\lib\\lib.jl:203 [inlined]",
      " [23] #1748#back",
      "    @ C:\\Users\\rubyl\\.julia\\packages\\ZygoteRules\\AIbCs\\src\\adjoint.jl:67 [inlined]",
      " [24] Pullback",
      "    @ .\\broadcast.jl:1297 [inlined]",
      " [25] (::Zygote.var\"#212#213\"{Tuple{Tuple{Nothing}, Tuple{Nothing}}, typeof(∂(broadcasted))})(Δ::FillArrays.Fill{Float64, 1, Tuple{Base.OneTo{Int64}}})",
      "    @ Zygote C:\\Users\\rubyl\\.julia\\packages\\Zygote\\Y6SC4\\src\\lib\\lib.jl:203",
      " [26] (::Zygote.var\"#1748#back#214\"{Zygote.var\"#212#213\"{Tuple{Tuple{Nothing}, Tuple{Nothing}}, typeof(∂(broadcasted))}})(Δ::FillArrays.Fill{Float64, 1, Tuple{Base.OneTo{Int64}}})",
      "    @ Zygote C:\\Users\\rubyl\\.julia\\packages\\ZygoteRules\\AIbCs\\src\\adjoint.jl:67",
      " [27] Pullback",
      "    @ .\\broadcast.jl:1283 [inlined]",
      " [28] (::Zygote.var\"#212#213\"{Tuple{Tuple{Nothing, Nothing, Nothing}, Tuple{Nothing}}, typeof(∂(#broadcasted_kwsyntax#40))})(Δ::FillArrays.Fill{Float64, 1, Tuple{Base.OneTo{Int64}}})",
      "    @ Zygote C:\\Users\\rubyl\\.julia\\packages\\Zygote\\Y6SC4\\src\\lib\\lib.jl:203",
      " [29] #1748#back",
      "    @ C:\\Users\\rubyl\\.julia\\packages\\ZygoteRules\\AIbCs\\src\\adjoint.jl:67 [inlined]",
      " [30] Pullback",
      "    @ .\\broadcast.jl:1280 [inlined]",
      " [31] (::typeof(∂(broadcasted_kwsyntax##kw)))(Δ::FillArrays.Fill{Float64, 1, Tuple{Base.OneTo{Int64}}})",
      "    @ Zygote C:\\Users\\rubyl\\.julia\\packages\\Zygote\\Y6SC4\\src\\compiler\\interface2.jl:0",
      " [32] Pullback",
      "    @ .\\In[5]:3 [inlined]",
      " [33] (::typeof(∂(raytrace_trilinear)))(Δ::Float64)",
      "    @ Zygote C:\\Users\\rubyl\\.julia\\packages\\Zygote\\Y6SC4\\src\\compiler\\interface2.jl:0",
      " [34] Pullback",
      "    @ .\\In[15]:1 [inlined]",
      " [35] (::typeof(∂(#13)))(Δ::Float64)",
      "    @ Zygote C:\\Users\\rubyl\\.julia\\packages\\Zygote\\Y6SC4\\src\\compiler\\interface2.jl:0",
      " [36] (::Zygote.var\"#56#57\"{typeof(∂(#13))})(Δ::Float64)",
      "    @ Zygote C:\\Users\\rubyl\\.julia\\packages\\Zygote\\Y6SC4\\src\\compiler\\interface.jl:41",
      " [37] gradient(f::Function, args::Float64)",
      "    @ Zygote C:\\Users\\rubyl\\.julia\\packages\\Zygote\\Y6SC4\\src\\compiler\\interface.jl:76",
      " [38] top-level scope",
      "    @ In[15]:1",
      " [39] eval",
      "    @ .\\boot.jl:373 [inlined]",
      " [40] include_string(mapexpr::typeof(REPL.softscope), mod::Module, code::String, filename::String)",
      "    @ Base .\\loading.jl:1196"
     ]
    }
   ],
   "source": [
    "gradient(spc -> raytrace_trilinear(projector[1000], spc, grid, pixels), spacing)"
   ]
  },
  {
   "cell_type": "code",
   "execution_count": 16,
   "id": "97f3d0d7-2d33-46c6-bdd8-407e18f88ed1",
   "metadata": {},
   "outputs": [
    {
     "data": {
      "text/plain": [
       "([0.8935398899772946 0.23748846424555048 0.7752539057922665; 0.8935398899772946 0.23748846424555048 0.7752539057922665],)"
      ]
     },
     "execution_count": 16,
     "metadata": {},
     "output_type": "execute_result"
    }
   ],
   "source": [
    "W = rand(2, 3); x = rand(3);\n",
    "\n",
    "gradient(W -> sum(W*x), W)"
   ]
  },
  {
   "cell_type": "code",
   "execution_count": 14,
   "id": "e6cff0db-2c28-43f4-9889-e4213ee0a810",
   "metadata": {},
   "outputs": [
    {
     "data": {
      "text/plain": [
       "-723.1175208586938"
      ]
     },
     "execution_count": 14,
     "metadata": {},
     "output_type": "execute_result"
    }
   ],
   "source": [
    "raytrace_trilinear(projector[1000], spacing, grid, pixels)"
   ]
  },
  {
   "cell_type": "code",
   "execution_count": 17,
   "id": "643af649-2849-4ac3-95ee-104a18cfe908",
   "metadata": {},
   "outputs": [],
   "source": [
    "using GridInterpolations"
   ]
  },
  {
   "cell_type": "code",
   "execution_count": 18,
   "id": "3bbf5458-0e5c-41d5-a160-0a90b579a26a",
   "metadata": {},
   "outputs": [
    {
     "data": {
      "text/plain": [
       "5.25"
      ]
     },
     "execution_count": 18,
     "metadata": {},
     "output_type": "execute_result"
    }
   ],
   "source": [
    "grid = RectangleGrid([0., 0.5, 1.],[0., 0.5, 1.])  \t# rectangular grid\n",
    "sGrid = SimplexGrid([0., 0.5, 1.],[0., 0.5, 1.])\t# simplex grid\n",
    "gridData = [8., 1., 6., 3., 5., 7., 4., 9., 2.]   \t# vector of value data at each cut\n",
    "x = [0.25, 0.75]  \n",
    "\n",
    "interpolate(grid,gridData,x)"
   ]
  },
  {
   "cell_type": "code",
   "execution_count": 19,
   "id": "31f1f7de-70cb-4700-b2e3-21c6dd1059a6",
   "metadata": {},
   "outputs": [
    {
     "ename": "LoadError",
     "evalue": "Mutating arrays is not supported -- called copyto!(::Vector{Float64}, _...)",
     "output_type": "error",
     "traceback": [
      "Mutating arrays is not supported -- called copyto!(::Vector{Float64}, _...)",
      "",
      "Stacktrace:",
      "  [1] error(s::String)",
      "    @ Base .\\error.jl:33",
      "  [2] (::Zygote.var\"#445#446\"{Vector{Float64}})(#unused#::Nothing)",
      "    @ Zygote C:\\Users\\rubyl\\.julia\\packages\\Zygote\\Y6SC4\\src\\lib\\array.jl:74",
      "  [3] (::Zygote.var\"#2345#back#447\"{Zygote.var\"#445#446\"{Vector{Float64}}})(Δ::Nothing)",
      "    @ Zygote C:\\Users\\rubyl\\.julia\\packages\\ZygoteRules\\AIbCs\\src\\adjoint.jl:67",
      "  [4] Pullback",
      "    @ C:\\Users\\rubyl\\.julia\\packages\\GridInterpolations\\Q9kj8\\src\\GridInterpolations.jl:221 [inlined]",
      "  [5] (::typeof(∂(interpolants)))(Δ::Tuple{Nothing, Vector{Float64}})",
      "    @ Zygote C:\\Users\\rubyl\\.julia\\packages\\Zygote\\Y6SC4\\src\\compiler\\interface2.jl:0",
      "  [6] Pullback",
      "    @ C:\\Users\\rubyl\\.julia\\packages\\GridInterpolations\\Q9kj8\\src\\GridInterpolations.jl:161 [inlined]",
      "  [7] Pullback",
      "    @ .\\In[19]:1 [inlined]",
      "  [8] (::typeof(∂(#17)))(Δ::Float64)",
      "    @ Zygote C:\\Users\\rubyl\\.julia\\packages\\Zygote\\Y6SC4\\src\\compiler\\interface2.jl:0",
      "  [9] (::Zygote.var\"#56#57\"{typeof(∂(#17))})(Δ::Float64)",
      "    @ Zygote C:\\Users\\rubyl\\.julia\\packages\\Zygote\\Y6SC4\\src\\compiler\\interface.jl:41",
      " [10] gradient(f::Function, args::Vector{Float64})",
      "    @ Zygote C:\\Users\\rubyl\\.julia\\packages\\Zygote\\Y6SC4\\src\\compiler\\interface.jl:76",
      " [11] top-level scope",
      "    @ In[19]:1",
      " [12] eval",
      "    @ .\\boot.jl:373 [inlined]",
      " [13] include_string(mapexpr::typeof(REPL.softscope), mod::Module, code::String, filename::String)",
      "    @ Base .\\loading.jl:1196"
     ]
    }
   ],
   "source": [
    "gradient(x -> interpolate(grid,gridData,x), x)"
   ]
  }
 ],
 "metadata": {
  "kernelspec": {
   "display_name": "Julia 1.7.1",
   "language": "julia",
   "name": "julia-1.7"
  },
  "language_info": {
   "file_extension": ".jl",
   "mimetype": "application/julia",
   "name": "julia",
   "version": "1.7.1"
  }
 },
 "nbformat": 4,
 "nbformat_minor": 5
}
