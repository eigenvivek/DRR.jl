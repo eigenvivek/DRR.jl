{
 "cells": [
  {
   "cell_type": "code",
   "execution_count": 6,
   "id": "4b2b02bf-bc80-440e-96af-ccc9c1464de4",
   "metadata": {},
   "outputs": [],
   "source": [
    "using BenchmarkTools\n",
    "using DRR"
   ]
  },
  {
   "cell_type": "code",
   "execution_count": 9,
   "id": "6055d87e-f6ad-4028-bab0-a1d756b83b7a",
   "metadata": {},
   "outputs": [],
   "source": [
    "import PaddedViews"
   ]
  },
  {
   "cell_type": "code",
   "execution_count": 24,
   "id": "fcb12afa-edb4-4b3a-9144-1841cd1a7302",
   "metadata": {},
   "outputs": [
    {
     "data": {
      "text/plain": [
       "5×5 PaddedView(-1, OffsetArray(::Matrix{Int64}, 2:4, 2:4), (1:5, 1:5)) with eltype Int64 with indices 1:5×1:5:\n",
       " -1  -1  -1  -1  -1\n",
       " -1   1   4   7  -1\n",
       " -1   2   5   8  -1\n",
       " -1   3   6   9  -1\n",
       " -1  -1  -1  -1  -1"
      ]
     },
     "execution_count": 24,
     "metadata": {},
     "output_type": "execute_result"
    }
   ],
   "source": [
    "a = collect(reshape(1:9, 3, 3))\n",
    "b = PaddedViews.PaddedView(-1, a, (1:5,1:5), (2:4,2:4))"
   ]
  },
  {
   "cell_type": "code",
   "execution_count": 23,
   "id": "46e7b76e-dee5-48e0-92ce-22533dc0f6a0",
   "metadata": {},
   "outputs": [
    {
     "data": {
      "text/plain": [
       "4×4×4 PaddedView(1, OffsetArray(::Array{Int64, 3}, 2:3, 2:3, 2:3), (1:4, 1:4, 1:4)) with eltype Int64 with indices 1:4×1:4×1:4:\n",
       "[:, :, 1] =\n",
       " 1  1  1  1\n",
       " 1  1  1  1\n",
       " 1  1  1  1\n",
       " 1  1  1  1\n",
       "\n",
       "[:, :, 2] =\n",
       " 1  1  1  1\n",
       " 1  1  3  1\n",
       " 1  2  4  1\n",
       " 1  1  1  1\n",
       "\n",
       "[:, :, 3] =\n",
       " 1  1  1  1\n",
       " 1  5  7  1\n",
       " 1  6  8  1\n",
       " 1  1  1  1\n",
       "\n",
       "[:, :, 4] =\n",
       " 1  1  1  1\n",
       " 1  1  1  1\n",
       " 1  1  1  1\n",
       " 1  1  1  1"
      ]
     },
     "execution_count": 25,
     "metadata": {},
     "output_type": "execute_result"
    }
   ],
   "source": [
    "a3D = collect(reshape(1:8, 2, 2,2))\n",
    "d1, d2, d3 = size(a3D)\n",
    "b3D = PaddedViews.PaddedView(minimum(a3D[:,1,1]), a3D, (1:(d1+2),1:(d2+2), 1:(d3+2)), (2:(d1+1),2:(d2+1),2:(d3+1)))"
   ]
  },
  {
   "cell_type": "code",
   "execution_count": 22,
   "id": "ed8d55b2-5f7b-4ab0-83e3-0e026ff2fded",
   "metadata": {},
   "outputs": [
    {
     "data": {
      "text/plain": [
       "1"
      ]
     },
     "execution_count": 22,
     "metadata": {},
     "output_type": "execute_result"
    }
   ],
   "source": [
    "minimum(a3D[:,1,1])"
   ]
  },
  {
   "cell_type": "code",
   "execution_count": 15,
   "id": "2b6f3d9c-1cee-4350-9db8-4ad12f3f2044",
   "metadata": {},
   "outputs": [
    {
     "data": {
      "text/plain": [
       "5"
      ]
     },
     "execution_count": 15,
     "metadata": {},
     "output_type": "execute_result"
    }
   ],
   "source": [
    "b[3,3]"
   ]
  },
  {
   "cell_type": "markdown",
   "id": "61f34392-6716-4fd0-b1ef-d6a5dea7eb04",
   "metadata": {},
   "source": [
    "We will need to benchmark four experiments: \n",
    "\n",
    "|     | Serial     | Parallel     |\n",
    "|-----|------------|--------------|\n",
    "| CPU | CPU Serial | CPU Parallel |\n",
    "| GPU | GPU Serial | GPU Parallel |"
   ]
  },
  {
   "cell_type": "code",
   "execution_count": 5,
   "id": "0969c278-8e0a-47fb-b5e8-09b419436198",
   "metadata": {},
   "outputs": [
    {
     "ename": "LoadError",
     "evalue": "UndefVarError: read_dicom not defined",
     "output_type": "error",
     "traceback": [
      "UndefVarError: read_dicom not defined",
      "",
      "Stacktrace:",
      " [1] top-level scope",
      "   @ In[5]:4",
      " [2] eval",
      "   @ .\\boot.jl:373 [inlined]",
      " [3] include_string(mapexpr::typeof(REPL.softscope), mod::Module, code::String, filename::String)",
      "   @ Base .\\loading.jl:1196"
     ]
    }
   ],
   "source": [
    "# Generate voxel grid\n",
    "\n",
    "# Load the CT volume and convert it to a regular grid with correct spacing\n",
    "ct_scan, ΔX, ΔY, ΔZ = read_dicom(\"../data/cxr/\")\n",
    "voxel_grid = volume2grid(ct_scan, ΔX, ΔY, ΔZ)\n",
    "\n",
    "# Initialize the X-ray imaging system's geometry\n",
    "camera = Camera(center=(-2,-2,-2))\n",
    "detector = Detector(center=(2,2,2), normal=(-2,-2,-2), height=200, width=200)"
   ]
  },
  {
   "cell_type": "code",
   "execution_count": null,
   "id": "249f53f7-43c9-457e-8ffd-11413b438943",
   "metadata": {},
   "outputs": [],
   "source": []
  },
  {
   "cell_type": "code",
   "execution_count": null,
   "id": "337a800c-de87-4039-a294-e1d11cfa7bd5",
   "metadata": {},
   "outputs": [],
   "source": [
    "# Generate the DRR\n",
    "sampling_interval = 0.01\n",
    "drr = make_drr(voxel_grid, camera, detector, sampling_rate)"
   ]
  }
 ],
 "metadata": {
  "kernelspec": {
   "display_name": "Julia 1.7.1",
   "language": "julia",
   "name": "julia-1.7"
  },
  "language_info": {
   "file_extension": ".jl",
   "mimetype": "application/julia",
   "name": "julia",
   "version": "1.7.1"
  }
 },
 "nbformat": 4,
 "nbformat_minor": 5
}
