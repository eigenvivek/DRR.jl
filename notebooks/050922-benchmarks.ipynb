{
 "cells": [
  {
   "cell_type": "code",
   "execution_count": 6,
   "id": "4b2b02bf-bc80-440e-96af-ccc9c1464de4",
   "metadata": {},
   "outputs": [],
   "source": [
    "using BenchmarkTools\n",
    "using DRR"
   ]
  },
  {
   "cell_type": "markdown",
   "id": "61f34392-6716-4fd0-b1ef-d6a5dea7eb04",
   "metadata": {},
   "source": [
    "We will need to benchmark four experiments: \n",
    "\n",
    "|     | Serial     | Parallel     |\n",
    "|-----|------------|--------------|\n",
    "| CPU | CPU Serial | CPU Parallel |\n",
    "| GPU | GPU Serial | GPU Parallel |"
   ]
  },
  {
   "cell_type": "code",
   "execution_count": 5,
   "id": "0969c278-8e0a-47fb-b5e8-09b419436198",
   "metadata": {},
   "outputs": [
    {
     "ename": "LoadError",
     "evalue": "UndefVarError: read_dicom not defined",
     "output_type": "error",
     "traceback": [
      "UndefVarError: read_dicom not defined",
      "",
      "Stacktrace:",
      " [1] top-level scope",
      "   @ In[5]:4",
      " [2] eval",
      "   @ .\\boot.jl:373 [inlined]",
      " [3] include_string(mapexpr::typeof(REPL.softscope), mod::Module, code::String, filename::String)",
      "   @ Base .\\loading.jl:1196"
     ]
    }
   ],
   "source": [
    "# Generate voxel grid\n",
    "\n",
    "# Load the CT volume and convert it to a regular grid with correct spacing\n",
    "ct_scan, ΔX, ΔY, ΔZ = read_dicom(\"../data/cxr/\")\n",
    "voxel_grid = volume2grid(ct_scan, ΔX, ΔY, ΔZ)\n",
    "\n",
    "# Initialize the X-ray imaging system's geometry\n",
    "camera = Camera(center=(-2,-2,-2))\n",
    "detector = Detector(center=(2,2,2), normal=(-2,-2,-2), height=200, width=200)"
   ]
  },
  {
   "cell_type": "code",
   "execution_count": null,
   "id": "337a800c-de87-4039-a294-e1d11cfa7bd5",
   "metadata": {},
   "outputs": [],
   "source": [
    "# Generate the DRR\n",
    "sampling_interval = 0.01\n",
    "drr = make_drr(voxel_grid, camera, detector, sampling_rate)"
   ]
  }
 ],
 "metadata": {
  "kernelspec": {
   "display_name": "Julia 1.7.1",
   "language": "julia",
   "name": "julia-1.7"
  },
  "language_info": {
   "file_extension": ".jl",
   "mimetype": "application/julia",
   "name": "julia",
   "version": "1.7.1"
  }
 },
 "nbformat": 4,
 "nbformat_minor": 5
}
