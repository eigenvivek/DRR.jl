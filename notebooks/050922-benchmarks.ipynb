{
 "cells": [
  {
   "cell_type": "code",
   "execution_count": null,
   "id": "aad08047",
   "metadata": {},
   "outputs": [],
   "source": [
    "using Distributed\n",
    "using BenchmarkTools\n",
    "using Plots\n",
    "using DRR"
   ]
  },
  {
   "cell_type": "code",
   "execution_count": null,
   "id": "aeea83ce",
   "metadata": {},
   "outputs": [],
   "source": [
    "# Read the volume\n",
    "volume, ΔX, ΔY, ΔZ = read_dicom(\"../data/cxr\"; pad=true)\n",
    "grid = volume2grid(volume, ΔX, ΔY, ΔZ)\n",
    "\n",
    "# Define the camera\n",
    "center = Vec3(180., 180., -100)\n",
    "camera = Camera(center)\n",
    "\n",
    "# Define the detector plane\n",
    "center = Vec3(180., 180., 500.)\n",
    "normal = Vec3(1., -1., -1.)\n",
    "height, width = 601, 601\n",
    "Δx, Δy = 2., 2.\n",
    "detector = Detector(center, normal, height, width, Δx, Δy)\n",
    "\n",
    "# Generate the DRR\n",
    "spacing = 0.75"
   ]
  },
  {
   "cell_type": "code",
   "execution_count": null,
   "id": "7dae687c",
   "metadata": {},
   "outputs": [],
   "source": [
    "function make_drr1(grid, volume, camera, detector, spacing)\n",
    "\n",
    "    # Set up the detector plane\n",
    "    plane = make_plane(detector)\n",
    "    projector = get_rays(camera, plane)\n",
    "\n",
    "    # Trace rays through the voxel grid\n",
    "    drr = Array{Float64}(undef, length(projector))\n",
    "    for i in 1:length(projector)\n",
    "        ray = projector[i]\n",
    "        drr[i] = raytrace_trilinear(ray, spacing, grid, volume, use_gpu=false)\n",
    "    end\n",
    "    drr = reshape(drr, (height, width))\n",
    "    return drr\n",
    "\n",
    "end"
   ]
  },
  {
   "cell_type": "code",
   "execution_count": null,
   "id": "b94bd026",
   "metadata": {},
   "outputs": [],
   "source": [
    "function make_drr2(grid, volume, camera, detector, spacing)\n",
    "\n",
    "    # Set up the detector plane\n",
    "    plane = make_plane(detector)\n",
    "    projector = get_rays(camera, plane)\n",
    "\n",
    "    # Trace rays through the voxel grid\n",
    "    drr = Array{Float64}(undef, length(projector))\n",
    "    @distributed for i in 1:length(projector)\n",
    "        ray = projector[i]\n",
    "        drr[i] = raytrace_trilinear(ray, spacing, grid, volume, use_gpu=false)\n",
    "    end\n",
    "    drr = reshape(drr, (height, width))\n",
    "    return drr\n",
    "\n",
    "end"
   ]
  },
  {
   "cell_type": "code",
   "execution_count": null,
   "id": "c801c99a",
   "metadata": {},
   "outputs": [],
   "source": [
    "function make_drr3(grid, volume, camera, detector, spacing)\n",
    "\n",
    "    # Set up the detector plane\n",
    "    plane = make_plane(detector)\n",
    "    projector = get_rays(camera, plane)\n",
    "\n",
    "    # Trace rays through the voxel grid\n",
    "    drr = Array{Float64}(undef, length(projector))\n",
    "    for i in 1:length(projector)\n",
    "        ray = projector[i]\n",
    "        drr[i] = raytrace_trilinear(ray, spacing, grid, volume, use_gpu=true)\n",
    "    end\n",
    "    drr = reshape(drr, (height, width))\n",
    "    return drr\n",
    "\n",
    "end"
   ]
  },
  {
   "cell_type": "code",
   "execution_count": null,
   "id": "22a4f1fa",
   "metadata": {},
   "outputs": [],
   "source": [
    "function make_drr4(grid, volume, camera, detector, spacing)\n",
    "\n",
    "    # Set up the detector plane\n",
    "    plane = make_plane(detector)\n",
    "    projector = get_rays(camera, plane)\n",
    "\n",
    "    # Trace rays through the voxel grid\n",
    "    drr = Array{Float64}(undef, length(projector))\n",
    "    @distributed for i in 1:length(projector)\n",
    "        ray = projector[i]\n",
    "        drr[i] = raytrace_trilinear(ray, spacing, grid, volume; use_gpu=true)\n",
    "    end\n",
    "    drr = reshape(drr, (height, width))\n",
    "    return drr\n",
    "\n",
    "end"
   ]
  },
  {
   "cell_type": "code",
   "execution_count": null,
   "id": "3c150321",
   "metadata": {},
   "outputs": [],
   "source": [
    "# rang = vcat(0.01:0.01:0.09, 0.1:0.1:0.5, 0.75);\n",
    "rang = vcat(0.1:0.1:0.5, 0.75)\n",
    "smp = length(rang)\n",
    "\n",
    "benchtimes_cpu_serial = Array{Float64}(undef, smp)\n",
    "benchtimes_cpu_parallel = Array{Float64}(undef, smp)\n",
    "benchtimes_gpu_serial = Array{Float64}(undef, smp)\n",
    "benchtimes_gpu_parallel = Array{Float64}(undef, smp)\n",
    "\n",
    "for i = 1:smp\n",
    "    # Generate the DRR\n",
    "    spacing = rang[i]\n",
    "    benchtimes_cpu_serial[i] = @elapsed make_drr1(grid, volume, camera, detector, spacing)\n",
    "    benchtimes_cpu_parallel[i] = @elapsed make_drr2(grid, volume, camera, detector, spacing)\n",
    "    benchtimes_gpu_serial[i] = @elapsed make_drr3(grid, volume, camera, detector, spacing)\n",
    "    benchtimes_cpu_parallel[i] = @elapsed make_drr4(grid, volume, camera, detector, spacing)\n",
    "end"
   ]
  },
  {
   "cell_type": "code",
   "execution_count": null,
   "id": "5efbe051",
   "metadata": {},
   "outputs": [],
   "source": [
    "scatter(1 ./ rang, benchtimes_cpu_serial, legend=:topleft, xaxis=:log, yaxis=:log, \n",
    "    xlabel=\"Points Sampled\", ylabel=\"Runtime (sec)\", \n",
    "    title=\"Runtime vs. Points Sampled\", label=\"CPU Serial\")\n",
    "scatter!(1 ./ rang, benchtimes_cpu_parallel, legend=:topleft, xaxis=:log, yaxis=:log, \n",
    "    xlabel=\"Points Sampled\", ylabel=\"Runtime (sec)\", \n",
    "    label=\"CPU Parallel\")\n",
    "scatter!(1 ./ rang, benchtimes_cpu_serial, legend=:topleft, xaxis=:log, yaxis=:log, \n",
    "    xlabel=\"Points Sampled\", ylabel=\"Runtime (sec)\", \n",
    "    label=\"GPU Serial\")\n",
    "scatter!(1 ./ rang, benchtimes_gpu_parallel, legend=:topleft, xaxis=:log, yaxis=:log, \n",
    "    xlabel=\"Points Sampled\", ylabel=\"Runtime (sec)\", \n",
    "    label=\"GPU Parallel\")"
   ]
  },
  {
   "cell_type": "code",
   "execution_count": null,
   "id": "581a2a46",
   "metadata": {},
   "outputs": [],
   "source": []
  }
 ],
 "metadata": {
  "@webio": {
   "lastCommId": null,
   "lastKernelId": null
  },
  "kernelspec": {
   "display_name": "Julia 1.7.1",
   "language": "julia",
   "name": "julia-1.7"
  },
  "language_info": {
   "file_extension": ".jl",
   "mimetype": "application/julia",
   "name": "julia",
   "version": "1.7.1"
  }
 },
 "nbformat": 4,
 "nbformat_minor": 5
}
