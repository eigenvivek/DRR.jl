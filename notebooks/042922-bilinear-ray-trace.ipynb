{
 "cells": [
  {
   "cell_type": "code",
   "execution_count": 1,
   "id": "ee9dccb2",
   "metadata": {},
   "outputs": [],
   "source": [
    "import Base.+, Base.*\n",
    "using LinearAlgebra"
   ]
  },
  {
   "cell_type": "code",
   "execution_count": 2,
   "id": "d13e26cf",
   "metadata": {},
   "outputs": [
    {
     "data": {
      "text/plain": [
       "* (generic function with 365 methods)"
      ]
     },
     "execution_count": 2,
     "metadata": {},
     "output_type": "execute_result"
    }
   ],
   "source": [
    "# Point with overloaded addition and scalar multiplication\n",
    "struct Point\n",
    "    x::Float64\n",
    "    y::Float64\n",
    "end\n",
    "\n",
    "+(p1::Point, p2::Point) = Point(p1.x + p2.x, p1.y + p2.y)\n",
    "*(t, p::Point) = Point(t * p.x, t * p.y)"
   ]
  },
  {
   "cell_type": "code",
   "execution_count": 3,
   "id": "57e55696",
   "metadata": {},
   "outputs": [
    {
     "data": {
      "text/plain": [
       "trace (generic function with 1 method)"
      ]
     },
     "execution_count": 3,
     "metadata": {},
     "output_type": "execute_result"
    }
   ],
   "source": [
    "# Ray with overloaded addition\n",
    "struct Ray\n",
    "    x::Point\n",
    "    d::Point\n",
    "end\n",
    "\n",
    "+(r1::Ray, r2::Ray) = r1.x + r2.x\n",
    "\n",
    "# Evaluate a ray at step t\n",
    "trace(t; r::Ray) = r.x + t * r.d"
   ]
  },
  {
   "cell_type": "code",
   "execution_count": 4,
   "id": "2000bdc6",
   "metadata": {},
   "outputs": [
    {
     "data": {
      "text/plain": [
       "Pixel(1.0, 1.0, 0.5)"
      ]
     },
     "execution_count": 4,
     "metadata": {},
     "output_type": "execute_result"
    }
   ],
   "source": [
    "# Pixel is a point with a color value\n",
    "struct Pixel\n",
    "    x::Float64\n",
    "    y::Float64\n",
    "    c::Float64\n",
    "end\n",
    "\n",
    "Q11 = Pixel(0, 0, 0)\n",
    "Q12 = Pixel(0, 1, 1)\n",
    "Q21 = Pixel(1, 0, 1)\n",
    "Q22 = Pixel(1, 1, 0.5)"
   ]
  },
  {
   "cell_type": "code",
   "execution_count": 5,
   "id": "9490a93f",
   "metadata": {},
   "outputs": [
    {
     "data": {
      "text/plain": [
       "bilinear (generic function with 1 method)"
      ]
     },
     "execution_count": 5,
     "metadata": {},
     "output_type": "execute_result"
    }
   ],
   "source": [
    "function make_comp_mat(x1, y1, x2, y2)\n",
    "    C⁻¹ = [\n",
    "        x2*y2 -x2*y1 -x1*y2 x1*y1 ;\n",
    "        -y2 y1 y2 -y1 ;\n",
    "        -x2 x2 x1 -x1 ;\n",
    "        1 -1 -1 1;\n",
    "    ]\n",
    "    return 1 / ((x2 - x1) * (y2 - y1)) * C⁻¹\n",
    "end\n",
    "\n",
    "\n",
    "function bilinear(p::Point; Q11::Pixel=Q11, Q12::Pixel=Q12, Q21::Pixel=Q21, Q22::Pixel=Q22)\n",
    "    C⁻¹ = make_comp_mat(Q11.x, Q11.y, Q22.x, Q22.y)\n",
    "    b = [Q11.c; Q21.c; Q12.c; Q22.c]\n",
    "    x = [1; p.x; p.y; p.x*p.y]\n",
    "    c = x' * C⁻¹ * b\n",
    "    return c[1]\n",
    "end"
   ]
  },
  {
   "cell_type": "code",
   "execution_count": 6,
   "id": "a4c069ef",
   "metadata": {},
   "outputs": [
    {
     "data": {
      "text/plain": [
       "15-element Vector{Float64}:\n",
       " 0.0\n",
       " 0.1339213562373095\n",
       " 0.25284271247461904\n",
       " 0.35676406871192856\n",
       " 0.445685424949238\n",
       " 0.5196067811865475\n",
       " 0.5785281374238571\n",
       " 0.6224494936611665\n",
       " 0.651370849898476\n",
       " 0.6652922061357855\n",
       " 0.664213562373095\n",
       " 0.6481349186104046\n",
       " 0.617056274847714\n",
       " 0.5709776310850234\n",
       " 0.509898987322333"
      ]
     },
     "execution_count": 6,
     "metadata": {},
     "output_type": "execute_result"
    }
   ],
   "source": [
    "r = Ray(Point(0, 0), Point(cos(π/4), sin(π/4)))\n",
    "@. bilinear(trace(0:0.1:√2; r))"
   ]
  },
  {
   "cell_type": "code",
   "execution_count": null,
   "id": "84601cc3",
   "metadata": {},
   "outputs": [],
   "source": []
  }
 ],
 "metadata": {
  "@webio": {
   "lastCommId": null,
   "lastKernelId": null
  },
  "kernelspec": {
   "display_name": "Julia 1.7.1",
   "language": "julia",
   "name": "julia-1.7"
  },
  "language_info": {
   "file_extension": ".jl",
   "mimetype": "application/julia",
   "name": "julia",
   "version": "1.7.1"
  }
 },
 "nbformat": 4,
 "nbformat_minor": 5
}
