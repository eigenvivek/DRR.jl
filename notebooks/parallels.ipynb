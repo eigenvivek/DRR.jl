{
 "cells": [
  {
   "cell_type": "code",
   "execution_count": 1,
   "id": "e2984d1c",
   "metadata": {},
   "outputs": [],
   "source": [
    "import Base: product\n",
    "\n",
    "using DRR\n",
    "using Plots\n",
    "using SharedArrays\n",
    "\n",
    "using Distributed\n",
    "using BenchmarkTools"
   ]
  },
  {
   "cell_type": "code",
   "execution_count": 2,
   "id": "9525ce9d",
   "metadata": {},
   "outputs": [
    {
     "name": "stdout",
     "output_type": "stream",
     "text": [
      "System max size of single shmem segment(MB) : 4\n",
      "System max size of all shmem segments(MB) : 16\n",
      "Requested size(MB) : 0\n",
      "Please ensure requested size is within system limits.\n",
      "If not, increase system limits and try again.\n"
     ]
    },
    {
     "ename": "LoadError",
     "evalue": "SystemError: shm_open() failed for /jl026323qCRV8kaI2giaYIx56ul4: Permission denied\nStacktrace:\n [1] \u001b[0m\u001b[1msystemerror\u001b[22m\u001b[0m\u001b[1m(\u001b[22m\u001b[90mp\u001b[39m::\u001b[0mString, \u001b[90merrno\u001b[39m::\u001b[0mInt32; \u001b[90mextrainfo\u001b[39m::\u001b[0mNothing\u001b[0m\u001b[1m)\u001b[22m\n\u001b[90m   @ \u001b[39m\u001b[90mBase\u001b[39m \u001b[90m./\u001b[39m\u001b[90m\u001b[4merror.jl:174\u001b[24m\u001b[39m\n [2] \u001b[0m\u001b[1m#systemerror#68\u001b[22m\n\u001b[90m   @ \u001b[39m\u001b[90m./\u001b[39m\u001b[90m\u001b[4merror.jl:173\u001b[24m\u001b[39m\u001b[90m [inlined]\u001b[39m\n [3] \u001b[0m\u001b[1msystemerror\u001b[22m\n\u001b[90m   @ \u001b[39m\u001b[90m./\u001b[39m\u001b[90m\u001b[4merror.jl:173\u001b[24m\u001b[39m\u001b[90m [inlined]\u001b[39m\n [4] \u001b[0m\u001b[1m_shm_mmap_array\u001b[22m\u001b[0m\u001b[1m(\u001b[22m\u001b[90mT\u001b[39m::\u001b[0mType, \u001b[90mdims\u001b[39m::\u001b[0mTuple\u001b[90m{Int64}\u001b[39m, \u001b[90mshm_seg_name\u001b[39m::\u001b[0mString, \u001b[90mmode\u001b[39m::\u001b[0mUInt16\u001b[0m\u001b[1m)\u001b[22m\n\u001b[90m   @ \u001b[39m\u001b[35mSharedArrays\u001b[39m \u001b[90m/Applications/Julia-1.7.app/Contents/Resources/julia/share/julia/stdlib/v1.7/SharedArrays/src/\u001b[39m\u001b[90m\u001b[4mSharedArrays.jl:681\u001b[24m\u001b[39m\n [5] \u001b[0m\u001b[1mshm_mmap_array\u001b[22m\u001b[0m\u001b[1m(\u001b[22m\u001b[90mT\u001b[39m::\u001b[0mType, \u001b[90mdims\u001b[39m::\u001b[0mTuple\u001b[90m{Int64}\u001b[39m, \u001b[90mshm_seg_name\u001b[39m::\u001b[0mString, \u001b[90mmode\u001b[39m::\u001b[0mUInt16\u001b[0m\u001b[1m)\u001b[22m\n\u001b[90m   @ \u001b[39m\u001b[35mSharedArrays\u001b[39m \u001b[90m/Applications/Julia-1.7.app/Contents/Resources/julia/share/julia/stdlib/v1.7/SharedArrays/src/\u001b[39m\u001b[90m\u001b[4mSharedArrays.jl:651\u001b[24m\u001b[39m\n [6] \u001b[0m\u001b[1m(::SharedArrays.var\"#6#9\"{Float64, Tuple{Int64}})\u001b[22m\u001b[0m\u001b[1m(\u001b[22m\u001b[0m\u001b[1m)\u001b[22m\n\u001b[90m   @ \u001b[39m\u001b[35mSharedArrays\u001b[39m \u001b[90m/Applications/Julia-1.7.app/Contents/Resources/julia/share/julia/stdlib/v1.7/SharedArrays/src/\u001b[39m\u001b[90m\u001b[4mSharedArrays.jl:128\u001b[24m\u001b[39m\n [7] \u001b[0m\u001b[1mrun_work_thunk\u001b[22m\u001b[0m\u001b[1m(\u001b[22m\u001b[90mthunk\u001b[39m::\u001b[0mSharedArrays.var\"#6#9\"\u001b[90m{Float64, Tuple{Int64}}\u001b[39m, \u001b[90mprint_error\u001b[39m::\u001b[0mBool\u001b[0m\u001b[1m)\u001b[22m\n\u001b[90m   @ \u001b[39m\u001b[36mDistributed\u001b[39m \u001b[90m/Applications/Julia-1.7.app/Contents/Resources/julia/share/julia/stdlib/v1.7/Distributed/src/\u001b[39m\u001b[90m\u001b[4mprocess_messages.jl:63\u001b[24m\u001b[39m\n [8] \u001b[0m\u001b[1mrun_work_thunk\u001b[22m\n\u001b[90m   @ \u001b[39m\u001b[90m/Applications/Julia-1.7.app/Contents/Resources/julia/share/julia/stdlib/v1.7/Distributed/src/\u001b[39m\u001b[90m\u001b[4mprocess_messages.jl:72\u001b[24m\u001b[39m\u001b[90m [inlined]\u001b[39m\n [9] \u001b[0m\u001b[1m(::Distributed.var\"#96#98\"{Distributed.RemoteValue, SharedArrays.var\"#6#9\"{Float64, Tuple{Int64}}})\u001b[22m\u001b[0m\u001b[1m(\u001b[22m\u001b[0m\u001b[1m)\u001b[22m\n\u001b[90m   @ \u001b[39m\u001b[36mDistributed\u001b[39m \u001b[90m./\u001b[39m\u001b[90m\u001b[4mtask.jl:423\u001b[24m\u001b[39m",
     "output_type": "error",
     "traceback": [
      "SystemError: shm_open() failed for /jl026323qCRV8kaI2giaYIx56ul4: Permission denied\nStacktrace:\n [1] \u001b[0m\u001b[1msystemerror\u001b[22m\u001b[0m\u001b[1m(\u001b[22m\u001b[90mp\u001b[39m::\u001b[0mString, \u001b[90merrno\u001b[39m::\u001b[0mInt32; \u001b[90mextrainfo\u001b[39m::\u001b[0mNothing\u001b[0m\u001b[1m)\u001b[22m\n\u001b[90m   @ \u001b[39m\u001b[90mBase\u001b[39m \u001b[90m./\u001b[39m\u001b[90m\u001b[4merror.jl:174\u001b[24m\u001b[39m\n [2] \u001b[0m\u001b[1m#systemerror#68\u001b[22m\n\u001b[90m   @ \u001b[39m\u001b[90m./\u001b[39m\u001b[90m\u001b[4merror.jl:173\u001b[24m\u001b[39m\u001b[90m [inlined]\u001b[39m\n [3] \u001b[0m\u001b[1msystemerror\u001b[22m\n\u001b[90m   @ \u001b[39m\u001b[90m./\u001b[39m\u001b[90m\u001b[4merror.jl:173\u001b[24m\u001b[39m\u001b[90m [inlined]\u001b[39m\n [4] \u001b[0m\u001b[1m_shm_mmap_array\u001b[22m\u001b[0m\u001b[1m(\u001b[22m\u001b[90mT\u001b[39m::\u001b[0mType, \u001b[90mdims\u001b[39m::\u001b[0mTuple\u001b[90m{Int64}\u001b[39m, \u001b[90mshm_seg_name\u001b[39m::\u001b[0mString, \u001b[90mmode\u001b[39m::\u001b[0mUInt16\u001b[0m\u001b[1m)\u001b[22m\n\u001b[90m   @ \u001b[39m\u001b[35mSharedArrays\u001b[39m \u001b[90m/Applications/Julia-1.7.app/Contents/Resources/julia/share/julia/stdlib/v1.7/SharedArrays/src/\u001b[39m\u001b[90m\u001b[4mSharedArrays.jl:681\u001b[24m\u001b[39m\n [5] \u001b[0m\u001b[1mshm_mmap_array\u001b[22m\u001b[0m\u001b[1m(\u001b[22m\u001b[90mT\u001b[39m::\u001b[0mType, \u001b[90mdims\u001b[39m::\u001b[0mTuple\u001b[90m{Int64}\u001b[39m, \u001b[90mshm_seg_name\u001b[39m::\u001b[0mString, \u001b[90mmode\u001b[39m::\u001b[0mUInt16\u001b[0m\u001b[1m)\u001b[22m\n\u001b[90m   @ \u001b[39m\u001b[35mSharedArrays\u001b[39m \u001b[90m/Applications/Julia-1.7.app/Contents/Resources/julia/share/julia/stdlib/v1.7/SharedArrays/src/\u001b[39m\u001b[90m\u001b[4mSharedArrays.jl:651\u001b[24m\u001b[39m\n [6] \u001b[0m\u001b[1m(::SharedArrays.var\"#6#9\"{Float64, Tuple{Int64}})\u001b[22m\u001b[0m\u001b[1m(\u001b[22m\u001b[0m\u001b[1m)\u001b[22m\n\u001b[90m   @ \u001b[39m\u001b[35mSharedArrays\u001b[39m \u001b[90m/Applications/Julia-1.7.app/Contents/Resources/julia/share/julia/stdlib/v1.7/SharedArrays/src/\u001b[39m\u001b[90m\u001b[4mSharedArrays.jl:128\u001b[24m\u001b[39m\n [7] \u001b[0m\u001b[1mrun_work_thunk\u001b[22m\u001b[0m\u001b[1m(\u001b[22m\u001b[90mthunk\u001b[39m::\u001b[0mSharedArrays.var\"#6#9\"\u001b[90m{Float64, Tuple{Int64}}\u001b[39m, \u001b[90mprint_error\u001b[39m::\u001b[0mBool\u001b[0m\u001b[1m)\u001b[22m\n\u001b[90m   @ \u001b[39m\u001b[36mDistributed\u001b[39m \u001b[90m/Applications/Julia-1.7.app/Contents/Resources/julia/share/julia/stdlib/v1.7/Distributed/src/\u001b[39m\u001b[90m\u001b[4mprocess_messages.jl:63\u001b[24m\u001b[39m\n [8] \u001b[0m\u001b[1mrun_work_thunk\u001b[22m\n\u001b[90m   @ \u001b[39m\u001b[90m/Applications/Julia-1.7.app/Contents/Resources/julia/share/julia/stdlib/v1.7/Distributed/src/\u001b[39m\u001b[90m\u001b[4mprocess_messages.jl:72\u001b[24m\u001b[39m\u001b[90m [inlined]\u001b[39m\n [9] \u001b[0m\u001b[1m(::Distributed.var\"#96#98\"{Distributed.RemoteValue, SharedArrays.var\"#6#9\"{Float64, Tuple{Int64}}})\u001b[22m\u001b[0m\u001b[1m(\u001b[22m\u001b[0m\u001b[1m)\u001b[22m\n\u001b[90m   @ \u001b[39m\u001b[36mDistributed\u001b[39m \u001b[90m./\u001b[39m\u001b[90m\u001b[4mtask.jl:423\u001b[24m\u001b[39m",
      "",
      "Stacktrace:",
      "  [1] wait_ref",
      "    @ /Applications/Julia-1.7.app/Contents/Resources/julia/share/julia/stdlib/v1.7/Distributed/src/remotecall.jl:577 [inlined]",
      "  [2] call_on_owner",
      "    @ /Applications/Julia-1.7.app/Contents/Resources/julia/share/julia/stdlib/v1.7/Distributed/src/remotecall.jl:567 [inlined]",
      "  [3] wait(r::Future)",
      "    @ Distributed /Applications/Julia-1.7.app/Contents/Resources/julia/share/julia/stdlib/v1.7/Distributed/src/remotecall.jl:590",
      "  [4] SharedVector{Float64}(dims::Tuple{Int64}; init::Bool, pids::Vector{Int64})",
      "    @ SharedArrays /Applications/Julia-1.7.app/Contents/Resources/julia/share/julia/stdlib/v1.7/SharedArrays/src/SharedArrays.jl:137",
      "  [5] SharedArray",
      "    @ /Applications/Julia-1.7.app/Contents/Resources/julia/share/julia/stdlib/v1.7/SharedArrays/src/SharedArrays.jl:105 [inlined]",
      "  [6] #_#10",
      "    @ /Applications/Julia-1.7.app/Contents/Resources/julia/share/julia/stdlib/v1.7/SharedArrays/src/SharedArrays.jl:161 [inlined]",
      "  [7] SharedArray",
      "    @ /Applications/Julia-1.7.app/Contents/Resources/julia/share/julia/stdlib/v1.7/SharedArrays/src/SharedArrays.jl:161 [inlined]",
      "  [8] #_#13",
      "    @ /Applications/Julia-1.7.app/Contents/Resources/julia/share/julia/stdlib/v1.7/SharedArrays/src/SharedArrays.jl:167 [inlined]",
      "  [9] (SharedArray{Float64})(m::Int64)",
      "    @ SharedArrays /Applications/Julia-1.7.app/Contents/Resources/julia/share/julia/stdlib/v1.7/SharedArrays/src/SharedArrays.jl:167",
      " [10] top-level scope",
      "    @ In[2]:1",
      " [11] eval",
      "    @ ./boot.jl:373 [inlined]",
      " [12] include_string(mapexpr::typeof(REPL.softscope), mod::Module, code::String, filename::String)",
      "    @ Base ./loading.jl:1196"
     ]
    }
   ],
   "source": [
    "SharedArray{Float64}(10)"
   ]
  },
  {
   "cell_type": "code",
   "execution_count": null,
   "id": "934e2d82",
   "metadata": {},
   "outputs": [],
   "source": [
    "findz(x, y; a, b, c, d) = (d - a * x - b * y) / c\n",
    "findz(x::Tuple{Float64,Float64}; a, b, c, d) = findz(x[1], x[2]; a, b, c, d)\n",
    "append(xy, z) = Vec3(xy..., z)\n",
    "\n",
    "# Construct the detector array\n",
    "function make_plane(detector::Detector)\n",
    "    d = dotprod(detector.center, detector.normal)\n",
    "    xs = (-detector.height÷2:1:detector.height÷2) * detector.Δx\n",
    "    ys = (-detector.width÷2:1:detector.width÷2) * detector.Δy\n",
    "    xys = product(xs, ys) |> collect\n",
    "    zs = findz.(xys; a=detector.normal.x, b=detector.normal.y, c=detector.normal.z, d=d)\n",
    "    return append.(xys, zs)\n",
    "end\n",
    "get_rays(camera, plane) = [Ray(camera.center, pixel - camera.center) for pixel in plane]"
   ]
  },
  {
   "cell_type": "code",
   "execution_count": null,
   "id": "5a15b11b",
   "metadata": {},
   "outputs": [],
   "source": [
    "# Read the volume\n",
    "volume, ΔX, ΔY, ΔZ = read_dicom(\"../data/cxr\"; pad=true)\n",
    "grid, pixels = volume2grid(volume, ΔX, ΔY, ΔZ)\n",
    "\n",
    "# Define the camera\n",
    "center = Vec3(180., 180., -100)\n",
    "camera = Camera(center)\n",
    "\n",
    "# Define the detector plane\n",
    "center = Vec3(180., 180., 500.)\n",
    "normal = Vec3(1., -1., -1.)\n",
    "height, width = 601, 601\n",
    "Δx, Δy = 2., 2.\n",
    "detector = Detector(center, normal, height, width, Δx, Δy)\n",
    "\n",
    "# Generate the DRR\n",
    "spacing = 0.1"
   ]
  },
  {
   "cell_type": "code",
   "execution_count": null,
   "id": "3b797a4a",
   "metadata": {},
   "outputs": [],
   "source": [
    "function raytrace_trilinear(ray, spacing::Float64, grid, pixels)\n",
    "    pts = trace.(0:spacing:1; ray=ray)\n",
    "    interpolations = interpolate.(pts; grid, pixels)\n",
    "    return sum(interpolations) / length(pts)\n",
    "end"
   ]
  },
  {
   "cell_type": "code",
   "execution_count": null,
   "id": "a38c045a",
   "metadata": {},
   "outputs": [],
   "source": [
    "# Set up the detector plane\n",
    "plane = make_plane(detector)\n",
    "projector = get_rays(camera, plane);"
   ]
  },
  {
   "cell_type": "code",
   "execution_count": null,
   "id": "91dd5bc4",
   "metadata": {},
   "outputs": [],
   "source": [
    "function make_drr1(projector, spacing, grid, pixels)\n",
    "    drr = Array{Float64}(undef, length(projector))\n",
    "    for i in 1:length(projector)\n",
    "        ray = projector[i]\n",
    "        drr[i] = raytrace_trilinear(ray, spacing, grid, pixels)\n",
    "    end\n",
    "    return drr\n",
    "end\n",
    "@btime make_drr1(projector, spacing, grid, pixels);"
   ]
  },
  {
   "cell_type": "code",
   "execution_count": null,
   "id": "0885e60a",
   "metadata": {},
   "outputs": [],
   "source": [
    "# Trace rays through the voxel grid (series)\n",
    "make_drr2(projector, spacing, grid, pixels) = [raytrace_trilinear(ray, spacing, grid, pixels) for ray in projector]\n",
    "@btime make_drr2(projector, spacing, grid, pixels);"
   ]
  },
  {
   "cell_type": "code",
   "execution_count": null,
   "id": "f15a506a",
   "metadata": {},
   "outputs": [],
   "source": [
    "length(projector)"
   ]
  },
  {
   "cell_type": "code",
   "execution_count": null,
   "id": "c96ac9de",
   "metadata": {},
   "outputs": [],
   "source": []
  },
  {
   "cell_type": "code",
   "execution_count": null,
   "id": "e607f7f9",
   "metadata": {},
   "outputs": [],
   "source": [
    "function paradrr(projector, spacing, grid, pixels)\n",
    "    drr = SharedArray{Float64}(1, length(projector))\n",
    "    @distributed for i in 1:length(projector)\n",
    "        ray = projector[i]\n",
    "        drr[i] = raytrace_trilinear(ray, spacing, grid, pixels)\n",
    "    end\n",
    "    return drr\n",
    "end\n",
    "@btime paradrr(projector, spacing, grid, pixels);"
   ]
  },
  {
   "cell_type": "code",
   "execution_count": null,
   "id": "5a0790af",
   "metadata": {},
   "outputs": [],
   "source": [
    "@btime paradrr(projector, spacing, grid, pixels);"
   ]
  },
  {
   "cell_type": "code",
   "execution_count": null,
   "id": "2c26cc3f",
   "metadata": {},
   "outputs": [],
   "source": [
    "function harmonic_distr2(n::Int64)\n",
    "    x = (+) for i in n:-1:1\n",
    "        1/i # no x assignment here\n",
    "    end\n",
    "    return x\n",
    "end"
   ]
  },
  {
   "cell_type": "code",
   "execution_count": null,
   "id": "5f7d0102",
   "metadata": {},
   "outputs": [],
   "source": [
    "harmonic_distr2(1_)"
   ]
  }
 ],
 "metadata": {
  "@webio": {
   "lastCommId": null,
   "lastKernelId": null
  },
  "kernelspec": {
   "display_name": "Julia 1.7.1",
   "language": "julia",
   "name": "julia-1.7"
  },
  "language_info": {
   "file_extension": ".jl",
   "mimetype": "application/julia",
   "name": "julia",
   "version": "1.7.1"
  }
 },
 "nbformat": 4,
 "nbformat_minor": 5
}
